{
  "nbformat": 4,
  "nbformat_minor": 0,
  "metadata": {
    "colab": {
      "provenance": []
    },
    "kernelspec": {
      "name": "python3",
      "display_name": "Python 3"
    },
    "language_info": {
      "name": "python"
    }
  },
  "cells": [
    {
      "cell_type": "markdown",
      "source": [
        "Nama : Riza Aulia Hanifa\n",
        "\n",
        "NIM : 2100015040"
      ],
      "metadata": {
        "id": "bu7aDJbTKW-D"
      }
    },
    {
      "cell_type": "markdown",
      "source": [
        "1.\tBuatlah fungsi lambda untuk menghitung fungsi dari persegi panjang"
      ],
      "metadata": {
        "id": "SXaeIVwDKfXE"
      }
    },
    {
      "cell_type": "code",
      "execution_count": null,
      "metadata": {
        "colab": {
          "base_uri": "https://localhost:8080/"
        },
        "id": "9nQx9STeI7N1",
        "outputId": "f5330542-f668-44bd-ed60-f188ce9105ed"
      },
      "outputs": [
        {
          "output_type": "stream",
          "name": "stdout",
          "text": [
            "Keliling persegi panjang : 34 cm\n",
            "Luas persegi panjang: 70 cm^2\n"
          ]
        }
      ],
      "source": [
        "def fungsi_persegi_panjang(p,l) :\n",
        "  keliling = 2*(p+l)\n",
        "  luas = p*l\n",
        "  print('Keliling persegi panjang :', keliling, 'cm')\n",
        "  print('Luas persegi panjang:', luas, 'cm^2')\n",
        "\n",
        "fungsi_persegi_panjang(10,7)"
      ]
    },
    {
      "cell_type": "markdown",
      "source": [
        "2.\tBuatlah fungsi lambda untuk menghitung luas dari segitiga"
      ],
      "metadata": {
        "id": "U-A6CiyuKdhE"
      }
    },
    {
      "cell_type": "code",
      "source": [
        "def luas_segitiga(a,t):\n",
        "  luas = (1/2)*a*t\n",
        "  print('Luas segitiga : ', luas, 'cm^2')\n",
        "\n",
        "luas_segitiga(8,15)"
      ],
      "metadata": {
        "colab": {
          "base_uri": "https://localhost:8080/"
        },
        "id": "ckQmJhqMLVY8",
        "outputId": "7bd5d259-14e4-4ea2-f3b0-d8804d5f4872"
      },
      "execution_count": null,
      "outputs": [
        {
          "output_type": "stream",
          "name": "stdout",
          "text": [
            "Luas segitiga :  60.0 cm^2\n"
          ]
        }
      ]
    }
  ]
}