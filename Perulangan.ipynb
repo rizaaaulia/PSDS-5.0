{
  "nbformat": 4,
  "nbformat_minor": 0,
  "metadata": {
    "colab": {
      "provenance": []
    },
    "kernelspec": {
      "name": "python3",
      "display_name": "Python 3"
    },
    "language_info": {
      "name": "python"
    }
  },
  "cells": [
    {
      "cell_type": "markdown",
      "source": [
        "# Looping/Perulangan\n"
      ],
      "metadata": {
        "id": "yc6hqgLXnSNF"
      }
    },
    {
      "cell_type": "markdown",
      "source": [
        "Python menyediakan dua statement untuk melakulian proses perulangan yaitu for dan while. Diantara kedua statement ini, secara umum for lebih banyak digunakan daripada while.\n"
      ],
      "metadata": {
        "id": "d_EjsLGCnd34"
      }
    },
    {
      "cell_type": "markdown",
      "source": [
        "##  For Loop\n"
      ],
      "metadata": {
        "id": "jg7eP8Lnnf6G"
      }
    },
    {
      "cell_type": "markdown",
      "source": [
        "Perulangan `for`digunakan untuk melakukan iterasi di dalam `sequence` seperti `list`, `tuple`, `string`, dan `array` atau objek yang dapat diiterasi lainnya.\n",
        "\n"
      ],
      "metadata": {
        "id": "hj8cf4XkoaMI"
      }
    },
    {
      "cell_type": "markdown",
      "source": [
        "### Example: python for loop"
      ],
      "metadata": {
        "id": "AP6d_AqGqAER"
      }
    },
    {
      "cell_type": "code",
      "source": [
        "# Program untuk menghitung jumlah semua angka dalam sebuah list\n",
        "L1 = [2, 4, 5, 7, 9]\n",
        "jumlah = 0\n",
        "\n",
        "# iterasi di dalam list\n",
        "for i in L1:\n",
        "  jumlah = jumlah + i\n",
        "\n",
        "print(jumlah)"
      ],
      "metadata": {
        "colab": {
          "base_uri": "https://localhost:8080/"
        },
        "id": "LxGaHHY_pvoA",
        "outputId": "98c1ab98-ae6a-47e9-bc37-e20fe42644d5"
      },
      "execution_count": null,
      "outputs": [
        {
          "output_type": "stream",
          "name": "stdout",
          "text": [
            "27\n"
          ]
        }
      ]
    },
    {
      "cell_type": "markdown",
      "source": [
        "### The range() function"
      ],
      "metadata": {
        "id": "f2P4GEBdq4i8"
      }
    },
    {
      "cell_type": "code",
      "source": [
        "# Program untuk melakukan iterasi di dalam list melalui indeks\n",
        "minuman = [\"teh\", \"boba\", \"kopi\", \"susu\"]\n",
        "p = len(minuman)\n",
        "\n",
        "# iterasi di dalam list melalui indeks\n",
        "for i in range(p):\n",
        "  print(minuman[i])"
      ],
      "metadata": {
        "colab": {
          "base_uri": "https://localhost:8080/"
        },
        "id": "CdqLY-DmqoR6",
        "outputId": "68f0e099-91f2-4990-efaf-c1618cad6ec1"
      },
      "execution_count": null,
      "outputs": [
        {
          "output_type": "stream",
          "name": "stdout",
          "text": [
            "teh\n",
            "boba\n",
            "kopi\n",
            "susu\n"
          ]
        }
      ]
    },
    {
      "cell_type": "markdown",
      "source": [
        "### for loop with else"
      ],
      "metadata": {
        "id": "Jo478BO7rn1V"
      }
    },
    {
      "cell_type": "code",
      "source": [
        "# contoh for loop menggunakan else\n",
        "for i in range(p):\n",
        "  print(minuman[i])\n",
        "else:\n",
        "  print(\"Elemen sudah habis\")"
      ],
      "metadata": {
        "colab": {
          "base_uri": "https://localhost:8080/"
        },
        "id": "_al9SY_4rZ1t",
        "outputId": "86b7a07e-26c9-41fc-a8df-bcb3959a33b6"
      },
      "execution_count": null,
      "outputs": [
        {
          "output_type": "stream",
          "name": "stdout",
          "text": [
            "teh\n",
            "boba\n",
            "kopi\n",
            "susu\n",
            "Elemen sudah habis\n"
          ]
        }
      ]
    },
    {
      "cell_type": "markdown",
      "source": [
        "### Latihan 1"
      ],
      "metadata": {
        "id": "meyEolNSr51Z"
      }
    },
    {
      "cell_type": "code",
      "source": [
        "list_tagihan = [50000, 75000, -150000, 125000, 300000, -50000, 200000]\n",
        "jumlah = 0\n",
        "\n",
        "for i in list_tagihan:\n",
        "  jumlah = jumlah + i\n",
        "\n",
        "print(\"total tagihan: \", jumlah)"
      ],
      "metadata": {
        "colab": {
          "base_uri": "https://localhost:8080/"
        },
        "id": "8A456IQer3u6",
        "outputId": "ed3ef1d7-0df7-4a71-93d2-59731c753cbb"
      },
      "execution_count": null,
      "outputs": [
        {
          "output_type": "stream",
          "name": "stdout",
          "text": [
            "total tagihan:  550000\n"
          ]
        }
      ]
    },
    {
      "cell_type": "markdown",
      "source": [
        "## While Loop"
      ],
      "metadata": {
        "id": "KUpEx1qiskj7"
      }
    },
    {
      "cell_type": "markdown",
      "source": [
        "While loop pada Python digunakan untuk melakukan iterasi pada blok pada blok kode selamam nilai dari` test expression` adalah `true`.\n"
      ],
      "metadata": {
        "id": "0vxnk1gAsosy"
      }
    },
    {
      "cell_type": "markdown",
      "source": [
        "### Example: Python while loop"
      ],
      "metadata": {
        "id": "2zJCNfldtkiA"
      }
    },
    {
      "cell_type": "code",
      "source": [
        "# Program untuk menjumlahkan semua\n",
        "# bilangan asli hingga suku ke-n\n",
        "# jum = 1+2+3+...+n\n",
        "\n",
        "n = 10\n",
        "jumlah = 0\n",
        "i = 1\n",
        "\n",
        "while i <= n:\n",
        "  jumlah = jumlah + i\n",
        "  i = i + 1\n",
        "\n",
        "print(jumlah)"
      ],
      "metadata": {
        "colab": {
          "base_uri": "https://localhost:8080/"
        },
        "id": "wO2x48YCtyXo",
        "outputId": "0b29d3a8-0c53-433f-af9f-8830fdd5d4c5"
      },
      "execution_count": null,
      "outputs": [
        {
          "output_type": "stream",
          "name": "stdout",
          "text": [
            "55\n"
          ]
        }
      ]
    },
    {
      "cell_type": "markdown",
      "source": [
        "### While loop with else"
      ],
      "metadata": {
        "id": "Njy8jhRnuRxI"
      }
    },
    {
      "cell_type": "markdown",
      "source": [
        "Sama dengan `for` loop kita juga dapat mengkombinasikan `while` loop denghan blok` else`.\n",
        "Bagian `else` akan dieksekusi jika nilai pada `test expression` pada `while loop` bernilai false. Perhatikan contoh berikut:"
      ],
      "metadata": {
        "id": "_KNg4sO1uV-u"
      }
    },
    {
      "cell_type": "code",
      "source": [
        "jum = 0\n",
        "i = 1\n",
        "while i <= n:\n",
        "  jum = jum + i\n",
        "  i = i + 1\n",
        "else:\n",
        "  print(jum) # dieksekusi diluar looping"
      ],
      "metadata": {
        "colab": {
          "base_uri": "https://localhost:8080/"
        },
        "id": "DosfXrQluQMR",
        "outputId": "e62648dc-4317-4cb7-a677-bb19ecebfbc2"
      },
      "execution_count": null,
      "outputs": [
        {
          "output_type": "stream",
          "name": "stdout",
          "text": [
            "55\n"
          ]
        }
      ]
    },
    {
      "cell_type": "markdown",
      "source": [
        "### Latihan 2"
      ],
      "metadata": {
        "id": "ABpoWWzDvAji"
      }
    },
    {
      "cell_type": "code",
      "source": [
        "tagihan = [50000, 75000, 125000, 300000, 200000]\n",
        "total = 0\n",
        "i = 0\n",
        "\n",
        "while i < len(tagihan):\n",
        "  total += tagihan[i]\n",
        "  i += 1\n",
        "\n",
        "print(\"total tagihan: \", total)"
      ],
      "metadata": {
        "colab": {
          "base_uri": "https://localhost:8080/"
        },
        "id": "1a8WyWflu-ni",
        "outputId": "5d2c1a50-c901-45cc-f6da-96a044cb42c2"
      },
      "execution_count": null,
      "outputs": [
        {
          "output_type": "stream",
          "name": "stdout",
          "text": [
            "total tagihan:  750000\n"
          ]
        }
      ]
    },
    {
      "cell_type": "markdown",
      "source": [
        "# Percabangan/ Struktur Pemilihan"
      ],
      "metadata": {
        "id": "3hTdi2UKxXS4"
      }
    },
    {
      "cell_type": "markdown",
      "source": [
        "Pada bagian ini, kamu akan membuat keputusan pada bahasa pemrograman Python menggunakan struktur percabangan atau juga sering disebut IF ELSE Statement. Pengambilan keputusan dibutuhkan ketika kamu akan mengeksekusi suatu kode jika sebuah kondisi tertentu dipenuhi.\n",
        "\n",
        "Statement `if .. elif ... else` digunakan pada bahasa Python untuk pengambilan keputusan"
      ],
      "metadata": {
        "id": "FzQkehGixei5"
      }
    },
    {
      "cell_type": "markdown",
      "source": [
        "### IF Statements"
      ],
      "metadata": {
        "id": "iY4BAIxmyTNZ"
      }
    },
    {
      "cell_type": "markdown",
      "source": [
        "### Example: Python IF Statement"
      ],
      "metadata": {
        "id": "tjcQrpzfyend"
      }
    },
    {
      "cell_type": "code",
      "source": [
        "# Jika angka adalah bilangan positif maka print \"adalah bilangan positif\"\n",
        "\n",
        "angka = 3\n",
        "if angka > 0:\n",
        "  print(angka, \"adalah bilangan positif\")\n",
        "print(\"Pernyataan ini selalu ditampilkan.\")\n",
        "\n",
        "angka = -1\n",
        "if angka > 0:\n",
        "  print(angka, \"adalah bilangan positif\")\n",
        "print(\"Pernyataan ini juga selalu ditampilkan.\")"
      ],
      "metadata": {
        "colab": {
          "base_uri": "https://localhost:8080/"
        },
        "id": "3o7L6DwwvMJe",
        "outputId": "37219e44-8141-4e45-e2a3-367dc48f6899"
      },
      "execution_count": null,
      "outputs": [
        {
          "output_type": "stream",
          "name": "stdout",
          "text": [
            "3 adalah bilangan positif\n",
            "Pernyataan ini selalu ditampilkan.\n",
            "Pernyataan ini juga selalu ditampilkan.\n"
          ]
        }
      ]
    },
    {
      "cell_type": "markdown",
      "source": [
        "### IF ELSE Statements"
      ],
      "metadata": {
        "id": "zxuTHO3fzv8m"
      }
    },
    {
      "cell_type": "markdown",
      "source": [
        "### Example: Python IF ELSE Statement"
      ],
      "metadata": {
        "id": "7fwzjMqw0OAp"
      }
    },
    {
      "cell_type": "code",
      "source": [
        "# Program disusun untuk mengecek apakah angka tersebut kurang dari 0 atau tidak\n",
        "# dan menampilkan tulisan yang sesuai\n",
        "\n",
        "angka = 3\n",
        "\n",
        "if angka >= 0:\n",
        "  print(\"Bilangan lebih dari satu samadenghan 0\")\n",
        "else:\n",
        "  print(\"Bilangan kurang dari 0\")"
      ],
      "metadata": {
        "colab": {
          "base_uri": "https://localhost:8080/"
        },
        "id": "wS33HIeMzKjK",
        "outputId": "2d15f313-f096-4c6f-ffa3-aa84960f5620"
      },
      "execution_count": null,
      "outputs": [
        {
          "output_type": "stream",
          "name": "stdout",
          "text": [
            "Bilangan lebih dari satu samadenghan 0\n"
          ]
        }
      ]
    },
    {
      "cell_type": "code",
      "source": [
        "a = 5\n",
        "b = 5\n",
        "\n",
        "if a==b:\n",
        "  print(\"a dan b bernilai sama\")\n",
        "else:\n",
        "  print(\"a dan b bernilai berbeda\")\n",
        "  print(\"Belajar if Else\")"
      ],
      "metadata": {
        "colab": {
          "base_uri": "https://localhost:8080/"
        },
        "id": "4fUJOVKf0m1d",
        "outputId": "872f21f7-fc63-41fd-c37b-83f321981a7a"
      },
      "execution_count": null,
      "outputs": [
        {
          "output_type": "stream",
          "name": "stdout",
          "text": [
            "a dan b bernilai sama\n"
          ]
        }
      ]
    },
    {
      "cell_type": "code",
      "source": [
        "# Program disusun untuk mengecek apakah perbandingan dua buah angka\n",
        "# dan menampilkan tulisan yang sesuai\n",
        "\n",
        "# membaca dua angka\n",
        "bil1 = int(input(\"Masukkan bilangan pertama: \"))\n",
        "bil2 = int(input(\"Masukkan bilangan kedua: \"))\n",
        "\n",
        "# memilih bilangan yang lebih besar\n",
        "if bil1 > bil2:\n",
        "  bil_lebih_besar = bil1\n",
        "else:\n",
        "  bil_lebih_besar = bil2\n",
        "\n",
        "# menampilkan hasil\n",
        "print(\"Bilangan yang lebih besar adalah:\", bil_lebih_besar)"
      ],
      "metadata": {
        "colab": {
          "base_uri": "https://localhost:8080/"
        },
        "id": "PVX_aZIe04IR",
        "outputId": "eaca3d61-7209-41c2-8ea3-cf0dc85de299"
      },
      "execution_count": null,
      "outputs": [
        {
          "output_type": "stream",
          "name": "stdout",
          "text": [
            "Masukkan bilangan pertama: 3\n",
            "Masukkan bilangan kedua: 5\n",
            "Bilangan yang lebih besar adalah: 5\n"
          ]
        }
      ]
    },
    {
      "cell_type": "markdown",
      "source": [
        "### IF ELIF ELSE Statements"
      ],
      "metadata": {
        "id": "iHP8Q63P1zNy"
      }
    },
    {
      "cell_type": "code",
      "source": [
        "# Program disusun untuk mengecek apakah angka merupakan bilangan positif, negatif, atau nol\n",
        "# dan menampilkan tulisan yang sesuai\n",
        "\n",
        "angka =3.4\n",
        "if angka > 0:\n",
        "  print(\"Bilangan Positif\")\n",
        "elif num == 0:\n",
        "  print(\"Nol\")\n",
        "else:\n",
        "  print(\"Bilangan Negatif\")\n"
      ],
      "metadata": {
        "colab": {
          "base_uri": "https://localhost:8080/"
        },
        "id": "lXPJZ1qY1wGQ",
        "outputId": "18981d6d-5cfd-4f4c-9e7d-0be5a76dddbd"
      },
      "execution_count": null,
      "outputs": [
        {
          "output_type": "stream",
          "name": "stdout",
          "text": [
            "Bilangan Positif\n"
          ]
        }
      ]
    },
    {
      "cell_type": "code",
      "source": [
        "# Statmen if\n",
        "x = 4\n",
        "if x % 2 == 0: #jika x dibagi 2 sisanya samadengan 0\n",
        "  print(\"x habis dibagi dua\")\n",
        "\n",
        "# Statmen if... elif... Else\n",
        "x = 7\n",
        "if x % 2 == 0: #jika x dibagi 2 sisanya samadengan 0\n",
        "  print(\"x habis dibagi dua\")\n",
        "elif x % 3 == 0: #jika x dibagi 3 sisanya samadengan 0\n",
        "  print(\"x habis dibagi tiga\")\n",
        "elif x % 5 == 0: #jika x dibagi 5 sisanya samadengan 0\n",
        "  print(\"x habis dibagi lima\")\n",
        "else:\n",
        "  print(\"x tidak habis dibagi dua, tiga, ataupun lima\")\n",
        "\n",
        "\n"
      ],
      "metadata": {
        "colab": {
          "base_uri": "https://localhost:8080/"
        },
        "id": "3KfoaFOj2jpB",
        "outputId": "582b1fd1-2a7f-41f7-ba03-b769805b0006"
      },
      "execution_count": null,
      "outputs": [
        {
          "output_type": "stream",
          "name": "stdout",
          "text": [
            "x habis dibagi dua\n",
            "x tidak habis dibagi dua, tiga, ataupun lima\n"
          ]
        }
      ]
    },
    {
      "cell_type": "markdown",
      "source": [
        "### Python Nested IF Statment"
      ],
      "metadata": {
        "id": "gVrnDDNY3XDR"
      }
    },
    {
      "cell_type": "code",
      "source": [
        "angka = float(input(\"Masukan angka: \"))\n",
        "if angka >= 0:\n",
        "  if angka == 0:\n",
        "    print(\"Nol\")\n",
        "  else:\n",
        "    print(\"Bilangan Positif\")\n",
        "else:\n",
        "  print(\"Bilangan Negatif\")"
      ],
      "metadata": {
        "colab": {
          "base_uri": "https://localhost:8080/"
        },
        "id": "WWkyIFM23baE",
        "outputId": "0bcde634-23e3-43cf-c9e7-a792dbe99cdd"
      },
      "execution_count": null,
      "outputs": [
        {
          "output_type": "stream",
          "name": "stdout",
          "text": [
            "Masukan angka: 4\n",
            "Bilangan Positif\n"
          ]
        }
      ]
    },
    {
      "cell_type": "markdown",
      "source": [
        "### Latihan"
      ],
      "metadata": {
        "id": "KAIraSPR33xN"
      }
    },
    {
      "cell_type": "code",
      "source": [
        "def Mahal_Diskon(harga):\n",
        "    if harga >= 200000:\n",
        "        kategori = \"Mahal\"\n",
        "        diskon = 0.4\n",
        "    elif harga >= 100000:\n",
        "        kategori = \"Mahal\"\n",
        "        diskon = 0.2\n",
        "    else:\n",
        "        kategori = \"Murah\"\n",
        "        diskon = 0.1\n",
        "\n",
        "    keterangan = \"Kamu dapat diskon sebesar  \" + str(int(diskon * 100)) + \"%\"\n",
        "    harga_akhir = harga - (harga * diskon)\n",
        "\n",
        "    return kategori, keterangan, harga_akhir\n",
        "\n",
        "harga_produk = 80000\n",
        "kategori, keterangan, harga_akhir = Mahal_Diskon(harga_produk)\n",
        "\n",
        "print(\"Kategori: \" + kategori)\n",
        "print(keterangan)\n",
        "print(\"Harga yang perlu dibayarkan: \" + str(harga_akhir))"
      ],
      "metadata": {
        "id": "M2LD7P5_35fk",
        "colab": {
          "base_uri": "https://localhost:8080/"
        },
        "outputId": "3e345f11-7ced-4e6d-fdc4-c33d9f58491a"
      },
      "execution_count": null,
      "outputs": [
        {
          "output_type": "stream",
          "name": "stdout",
          "text": [
            "Kategori: Murah\n",
            "Kamu dapat diskon sebesar  10%\n",
            "Harga yang perlu dibayarkan: 72000.0\n"
          ]
        }
      ]
    }
  ]
}