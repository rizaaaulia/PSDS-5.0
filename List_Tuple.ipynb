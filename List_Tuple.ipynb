{
  "nbformat": 4,
  "nbformat_minor": 0,
  "metadata": {
    "colab": {
      "provenance": []
    },
    "kernelspec": {
      "name": "python3",
      "display_name": "Python 3"
    },
    "language_info": {
      "name": "python"
    }
  },
  "cells": [
    {
      "cell_type": "markdown",
      "source": [
        "## List"
      ],
      "metadata": {
        "id": "BecF3rQNnEJS"
      }
    },
    {
      "cell_type": "markdown",
      "source": [
        "\n",
        "List adalah jenis kumpulan data terurut (ordered sequence) dan merupakan salah satu variabel yang sering digunakan pada Python. Serupa namun tak sama array pada bahasa pemrograman lainnya. Bedanya, elemen List pada Python tidak harus memiliki tipe data yang sama. Mendeklarasikan List cukup mudah dengan kurung siku dan elemen yang dipisahkan dengan koma.\n",
        "\n",
        "Setiap data di dalamnya dapat diakses dengan indeks yang dimulai dari 0."
      ],
      "metadata": {
        "id": "HcV_9taioZti"
      }
    },
    {
      "cell_type": "code",
      "execution_count": null,
      "metadata": {
        "colab": {
          "base_uri": "https://localhost:8080/"
        },
        "id": "UotwOrQTm9cs",
        "outputId": "a8a07872-3379-4dba-ae2b-20cda85452f5"
      },
      "outputs": [
        {
          "output_type": "stream",
          "name": "stdout",
          "text": [
            "<class 'list'>\n"
          ]
        }
      ],
      "source": [
        "# Contoh List\n",
        "L1 = [1, 4, 2, 13]\n",
        "\n",
        "print(type(L1))"
      ]
    },
    {
      "cell_type": "code",
      "source": [
        "L2 = [\"a\", \"Python\", 3]\n",
        "print(type(L2))"
      ],
      "metadata": {
        "colab": {
          "base_uri": "https://localhost:8080/"
        },
        "id": "keDCuVUSneRV",
        "outputId": "9dfd057b-18b1-4fc6-b325-08b93318256e"
      },
      "execution_count": null,
      "outputs": [
        {
          "output_type": "stream",
          "name": "stdout",
          "text": [
            "<class 'list'>\n"
          ]
        }
      ]
    },
    {
      "cell_type": "code",
      "source": [
        "print(L1)\n",
        "print(L2)"
      ],
      "metadata": {
        "colab": {
          "base_uri": "https://localhost:8080/"
        },
        "id": "eG9uJq77njhv",
        "outputId": "2a43ae7c-f1ee-4d41-e87c-cca9d60af4f6"
      },
      "execution_count": null,
      "outputs": [
        {
          "output_type": "stream",
          "name": "stdout",
          "text": [
            "[1, 4, 2, 13]\n",
            "['a', 'Python', 3]\n"
          ]
        }
      ]
    },
    {
      "cell_type": "markdown",
      "source": [
        "**Latihan**"
      ],
      "metadata": {
        "id": "xhpKfOZxnofP"
      }
    },
    {
      "cell_type": "code",
      "source": [
        "L1 = [8, 200, 130, 6]\n",
        "L2 = [\"satu\", \"c\", 10]\n",
        "\n",
        "print(L1)\n",
        "print(L2)"
      ],
      "metadata": {
        "colab": {
          "base_uri": "https://localhost:8080/"
        },
        "id": "Kh7MG9PAnpnp",
        "outputId": "88abab2b-76dd-4965-e4b2-8dba9f292a42"
      },
      "execution_count": null,
      "outputs": [
        {
          "output_type": "stream",
          "name": "stdout",
          "text": [
            "[8, 200, 130, 6]\n",
            "['satu', 'c', 10]\n"
          ]
        }
      ]
    },
    {
      "cell_type": "markdown",
      "source": [
        "Indeks di Python (List, Tuple) dimulai dari 0."
      ],
      "metadata": {
        "id": "EcxVr6VipKRw"
      }
    },
    {
      "cell_type": "code",
      "source": [
        "#Sifat-sifat List\n",
        "\n",
        "#Terurut/Ordered\n",
        "print(\"memanggil List L1 dengan indeks urutan:\", L1[0:3])\n",
        "\n",
        "#Bisa diganti/Mutable\n",
        "L1[1] = 2\n",
        "print(\"List L1 setelah diganti elemennya:\", L1)\n",
        "\n",
        "#Dapat diindeks/Sliching\n",
        "print(\"Sliching List L1:\", L1[3])\n",
        "\n",
        "#Dapat diizinkan duplikasi\n",
        "L1 = [1, \"Dua\", True, 2+3j, 2+3j]\n",
        "print(\"Duplikasi pada List L1:\", L1)\n",
        "\n",
        "#Dapat mengubah data dengan mengganti elemen tertentu\n",
        "L1 = [1,\"Dua\", True, 2+3j]\n",
        "L1[2]=3\n",
        "print(\"Data setelah diubah:\", L1)\n",
        "\n",
        "#Dapat menambahkan elemen baru pada data\n",
        "L1 = [1,\"Dua\", True, 2+3j]\n",
        "L1.append(20)\n",
        "print(\"Data setelah ditambah elemennya:\", L1)\n",
        "\n",
        "#Dapat mengahpus elemen pada data (remove()= menghapus berdasarkan nama objek)\n",
        "L1 = [1,\"Dua\", True, 2+3j]\n",
        "L1.remove(2+3j)\n",
        "print(\"Data setelah dihapus elemennya:\", L1)"
      ],
      "metadata": {
        "colab": {
          "base_uri": "https://localhost:8080/"
        },
        "id": "F_6QgclepbX6",
        "outputId": "9b68408a-ce7e-41e8-d58b-81ffde7823aa"
      },
      "execution_count": null,
      "outputs": [
        {
          "output_type": "stream",
          "name": "stdout",
          "text": [
            "memanggil List L1 dengan indeks urutan: [8, 200, 130]\n",
            "List L1 setelah diganti elemennya: [8, 2, 130, 6]\n",
            "Sliching List L1: 6\n",
            "Duplikasi pada List L1: [1, 'Dua', True, (2+3j), (2+3j)]\n",
            "Data setelah diubah: [1, 'Dua', 3, (2+3j)]\n",
            "Data setelah ditambah elemennya: [1, 'Dua', True, (2+3j), 20]\n",
            "Data setelah dihapus elemennya: [1, 'Dua', True]\n"
          ]
        }
      ]
    },
    {
      "cell_type": "code",
      "source": [
        "# Menambahkan data menggunakan fungsi extend\n",
        "L1 = [1,\"Dua\", True, 2+3j]\n",
        "L1.extend([\"nanas\"])\n",
        "print(L1)"
      ],
      "metadata": {
        "colab": {
          "base_uri": "https://localhost:8080/"
        },
        "id": "sSfmqNNqqB1B",
        "outputId": "c5828d7e-9fa7-4eda-a4c3-b549d8bf80cf"
      },
      "execution_count": null,
      "outputs": [
        {
          "output_type": "stream",
          "name": "stdout",
          "text": [
            "[1, 'Dua', True, (2+3j), 'nanas']\n"
          ]
        }
      ]
    },
    {
      "cell_type": "code",
      "source": [
        "# Menambahkan data menggunakan fungsi insert\n",
        "L1 = [1,\"Dua\", True, 2+3j]\n",
        "L1.insert(2, 5)\n",
        "print(L1)"
      ],
      "metadata": {
        "colab": {
          "base_uri": "https://localhost:8080/"
        },
        "id": "pDltqXROqSkS",
        "outputId": "6bff6204-e7af-4dff-bd5f-fbab90218afe"
      },
      "execution_count": null,
      "outputs": [
        {
          "output_type": "stream",
          "name": "stdout",
          "text": [
            "[1, 'Dua', 5, True, (2+3j)]\n"
          ]
        }
      ]
    },
    {
      "cell_type": "code",
      "source": [
        "#Menghapus elemen menggunakan fungsi pop() (berdasarkan indeks)\n",
        "L1 = [1,\"Dua\", True, 2+3j]\n",
        "L1.pop(2)\n",
        "print(L1)"
      ],
      "metadata": {
        "colab": {
          "base_uri": "https://localhost:8080/"
        },
        "id": "rA0kWhU8qac2",
        "outputId": "26e6bfc8-0053-42bb-b180-0602c2355f55"
      },
      "execution_count": null,
      "outputs": [
        {
          "output_type": "stream",
          "name": "stdout",
          "text": [
            "[1, 'Dua', (2+3j)]\n"
          ]
        }
      ]
    },
    {
      "cell_type": "code",
      "source": [
        "L1 = [1,\"Dua\", True, 2+3j]\n",
        "L1.pop()\n",
        "print(L1)"
      ],
      "metadata": {
        "colab": {
          "base_uri": "https://localhost:8080/"
        },
        "id": "xajnhPc1qh3I",
        "outputId": "11bcb93a-1b21-476b-e820-25a1a72a83b3"
      },
      "execution_count": null,
      "outputs": [
        {
          "output_type": "stream",
          "name": "stdout",
          "text": [
            "[1, 'Dua', True]\n"
          ]
        }
      ]
    },
    {
      "cell_type": "markdown",
      "source": [
        "**Latihan 2**"
      ],
      "metadata": {
        "id": "c9YdyHbxqqBx"
      }
    },
    {
      "cell_type": "code",
      "source": [
        "#Ordered\n",
        "print(\"Memanggil List L1 dengan indeks urutan:\", L1[0:2])\n",
        "\n",
        "#Mutable\n",
        "L1[2] = 200\n",
        "print(\"List L1 setelah elemennya diganti:\", L1)\n",
        "\n",
        "#Sliching\n",
        "print(\"Sliching List L1:\", L2[1])\n",
        "\n",
        "#Duplikasi\n",
        "L2 = [\"satu\", \"c\", 10]\n",
        "print(\"Duplikasi pada List L2:\", L2)"
      ],
      "metadata": {
        "colab": {
          "base_uri": "https://localhost:8080/"
        },
        "id": "2yXQah8rqrlw",
        "outputId": "f2a29849-8acd-4e73-bbd1-e594e55b23cc"
      },
      "execution_count": null,
      "outputs": [
        {
          "output_type": "stream",
          "name": "stdout",
          "text": [
            "Memanggil List L1 dengan indeks urutan: [1, 'Dua']\n",
            "List L1 setelah elemennya diganti: [1, 'Dua', 200]\n",
            "Sliching List L1: c\n",
            "Duplikasi pada List L2: ['satu', 'c', 10]\n"
          ]
        }
      ]
    },
    {
      "cell_type": "markdown",
      "source": [
        "## Struktur Data Tuple"
      ],
      "metadata": {
        "id": "XwYX1Lq4rbsx"
      }
    },
    {
      "cell_type": "markdown",
      "source": [
        "Tuple adalah jenis dari struktur data yang tidak dapat diubah elemennya. Umumnya Tuple digunakan untuk data yang bersifat sekali tulis dan dapat dieksekusi lebih cepat. Tuple didefinisikan dengan kurung dan elemen yang dipisahkan dengan koma."
      ],
      "metadata": {
        "id": "kHWl5Ts1rhrT"
      }
    },
    {
      "cell_type": "code",
      "source": [
        "# Contoh Tuple\n",
        "T1 = (1, \"dua\", True, 1+2j)\n",
        "print (\"ini adalah Tuple\", T1)"
      ],
      "metadata": {
        "colab": {
          "base_uri": "https://localhost:8080/"
        },
        "id": "XGP2sS38rmqf",
        "outputId": "454aca14-5779-4cd0-8d12-c6f50799ed99"
      },
      "execution_count": null,
      "outputs": [
        {
          "output_type": "stream",
          "name": "stdout",
          "text": [
            "ini adalah Tuple (1, 'dua', True, (1+2j))\n"
          ]
        }
      ]
    },
    {
      "cell_type": "code",
      "source": [
        "# Menampilkan tipe struktur data\n",
        "type(T1)"
      ],
      "metadata": {
        "colab": {
          "base_uri": "https://localhost:8080/"
        },
        "id": "kVczonmjrrnu",
        "outputId": "266da8a7-b67d-4e85-87f1-2d741bef7db0"
      },
      "execution_count": null,
      "outputs": [
        {
          "output_type": "execute_result",
          "data": {
            "text/plain": [
              "tuple"
            ]
          },
          "metadata": {},
          "execution_count": 13
        }
      ]
    },
    {
      "cell_type": "markdown",
      "source": [
        "**Latihan**"
      ],
      "metadata": {
        "id": "YlBjsVBMrwXb"
      }
    },
    {
      "cell_type": "code",
      "source": [
        "#Tuple 1\n",
        "T1 = (400, \"anda\", False, 6+300j)\n",
        "print (\"ini adalah Tuple saya\", T1)"
      ],
      "metadata": {
        "colab": {
          "base_uri": "https://localhost:8080/"
        },
        "id": "BTyvzWAbrxnR",
        "outputId": "a93b9547-548f-42e4-bf9b-496af09e39c6"
      },
      "execution_count": null,
      "outputs": [
        {
          "output_type": "stream",
          "name": "stdout",
          "text": [
            "ini adalah Tuple saya (400, 'anda', False, (6+300j))\n"
          ]
        }
      ]
    },
    {
      "cell_type": "code",
      "source": [
        "#Tuple 2\n",
        "T2 = (250, 4.75, True, 8.75)\n",
        "T2"
      ],
      "metadata": {
        "colab": {
          "base_uri": "https://localhost:8080/"
        },
        "id": "SlK-slbJt5b0",
        "outputId": "8f335ae5-a2f3-470d-9014-4db41ecfb6c4"
      },
      "execution_count": null,
      "outputs": [
        {
          "output_type": "execute_result",
          "data": {
            "text/plain": [
              "(250, 4.75, True, 8.75)"
            ]
          },
          "metadata": {},
          "execution_count": 27
        }
      ]
    },
    {
      "cell_type": "markdown",
      "source": [
        "### Sifat-Sifat Tuple"
      ],
      "metadata": {
        "id": "GUPnIt69sK8M"
      }
    },
    {
      "cell_type": "code",
      "source": [
        "#Terurut/Ordered\n",
        "T1[0:3]\n",
        "print(\"memanggil Tuple T1 dengan indeks urutan:\",T1[0:3])"
      ],
      "metadata": {
        "colab": {
          "base_uri": "https://localhost:8080/"
        },
        "id": "_GyagaFosMNN",
        "outputId": "f4b43e9d-b0bc-4544-9c2e-1e2e1f374ab6"
      },
      "execution_count": null,
      "outputs": [
        {
          "output_type": "stream",
          "name": "stdout",
          "text": [
            "memanggil Tuple T1 dengan indeks urutan: (1, 'dua', True)\n"
          ]
        }
      ]
    },
    {
      "cell_type": "code",
      "source": [
        "#Tibak bisa diganti/Immutable\n",
        "T1[2] = \"manusia\"\n",
        "print(\"Tuple T1 tidak bisa diganti:\",T1[2])"
      ],
      "metadata": {
        "colab": {
          "base_uri": "https://localhost:8080/",
          "height": 200
        },
        "id": "dpFXKJ5Ls31Y",
        "outputId": "dc77ec3c-8ae6-4a37-bbbf-d303df5d58d9"
      },
      "execution_count": null,
      "outputs": [
        {
          "output_type": "error",
          "ename": "TypeError",
          "evalue": "ignored",
          "traceback": [
            "\u001b[0;31m---------------------------------------------------------------------------\u001b[0m",
            "\u001b[0;31mTypeError\u001b[0m                                 Traceback (most recent call last)",
            "\u001b[0;32m<ipython-input-18-0ef600d1b793>\u001b[0m in \u001b[0;36m<cell line: 2>\u001b[0;34m()\u001b[0m\n\u001b[1;32m      1\u001b[0m \u001b[0;31m#Tibak bisa diganti/Immutable\u001b[0m\u001b[0;34m\u001b[0m\u001b[0;34m\u001b[0m\u001b[0m\n\u001b[0;32m----> 2\u001b[0;31m \u001b[0mT1\u001b[0m\u001b[0;34m[\u001b[0m\u001b[0;36m2\u001b[0m\u001b[0;34m]\u001b[0m \u001b[0;34m=\u001b[0m \u001b[0;34m\"manusia\"\u001b[0m\u001b[0;34m\u001b[0m\u001b[0;34m\u001b[0m\u001b[0m\n\u001b[0m\u001b[1;32m      3\u001b[0m \u001b[0mprint\u001b[0m\u001b[0;34m(\u001b[0m\u001b[0;34m\"Tuple T1 tidak bisa diganti:\"\u001b[0m\u001b[0;34m,\u001b[0m\u001b[0mT1\u001b[0m\u001b[0;34m[\u001b[0m\u001b[0;36m2\u001b[0m\u001b[0;34m]\u001b[0m\u001b[0;34m)\u001b[0m\u001b[0;34m\u001b[0m\u001b[0;34m\u001b[0m\u001b[0m\n",
            "\u001b[0;31mTypeError\u001b[0m: 'tuple' object does not support item assignment"
          ]
        }
      ]
    },
    {
      "cell_type": "code",
      "source": [
        "#Dapat diindeks/slicing\n",
        "print(\"elemen kedua dari Tuple T1 adalah:\", T1[1])"
      ],
      "metadata": {
        "colab": {
          "base_uri": "https://localhost:8080/"
        },
        "id": "bunJbCkFs9tU",
        "outputId": "c3bcda9a-3565-497d-f25d-09d3b8caac05"
      },
      "execution_count": null,
      "outputs": [
        {
          "output_type": "stream",
          "name": "stdout",
          "text": [
            "elemen kedua dari Tuple T1 adalah: dua\n"
          ]
        }
      ]
    },
    {
      "cell_type": "code",
      "source": [
        "#Dapat diizinkan duplikasi\n",
        "T2 = (3, 2.4, True, 2.4)\n",
        "print('elemen Tuple T2 setelah diduplikat:',T2)"
      ],
      "metadata": {
        "colab": {
          "base_uri": "https://localhost:8080/"
        },
        "id": "vOsLb60itCDf",
        "outputId": "df42026e-6000-469d-ebb2-a9549e48b18b"
      },
      "execution_count": null,
      "outputs": [
        {
          "output_type": "stream",
          "name": "stdout",
          "text": [
            "elemen Tuple T2 setelah diduplikat: (3, 2.4, True, 2.4)\n"
          ]
        }
      ]
    },
    {
      "cell_type": "code",
      "source": [
        "# Tidak dapat menambahkan elemen baru\n",
        "T1 = (1, \"dua\", True, 1+2j)\n",
        "print (f' tuple\\t:{T1}')"
      ],
      "metadata": {
        "colab": {
          "base_uri": "https://localhost:8080/"
        },
        "id": "A88Rw3hUtHeS",
        "outputId": "b762701f-8686-4108-ba97-97c59e99792b"
      },
      "execution_count": null,
      "outputs": [
        {
          "output_type": "stream",
          "name": "stdout",
          "text": [
            " tuple\t:(1, 'dua', True, (1+2j))\n"
          ]
        }
      ]
    },
    {
      "cell_type": "code",
      "source": [
        "T1.append(10)\n",
        "T1.append(50)\n",
        "print (f' tuple\\t:{T1}')"
      ],
      "metadata": {
        "colab": {
          "base_uri": "https://localhost:8080/",
          "height": 200
        },
        "id": "m1V4AlQItKbr",
        "outputId": "59fb8281-3017-46b8-c0fe-72f6d40201a3"
      },
      "execution_count": null,
      "outputs": [
        {
          "output_type": "error",
          "ename": "AttributeError",
          "evalue": "ignored",
          "traceback": [
            "\u001b[0;31m---------------------------------------------------------------------------\u001b[0m",
            "\u001b[0;31mAttributeError\u001b[0m                            Traceback (most recent call last)",
            "\u001b[0;32m<ipython-input-22-a04900c341ae>\u001b[0m in \u001b[0;36m<cell line: 1>\u001b[0;34m()\u001b[0m\n\u001b[0;32m----> 1\u001b[0;31m \u001b[0mT1\u001b[0m\u001b[0;34m.\u001b[0m\u001b[0mappend\u001b[0m\u001b[0;34m(\u001b[0m\u001b[0;36m10\u001b[0m\u001b[0;34m)\u001b[0m\u001b[0;34m\u001b[0m\u001b[0;34m\u001b[0m\u001b[0m\n\u001b[0m\u001b[1;32m      2\u001b[0m \u001b[0mT1\u001b[0m\u001b[0;34m.\u001b[0m\u001b[0mappend\u001b[0m\u001b[0;34m(\u001b[0m\u001b[0;36m50\u001b[0m\u001b[0;34m)\u001b[0m\u001b[0;34m\u001b[0m\u001b[0;34m\u001b[0m\u001b[0m\n\u001b[1;32m      3\u001b[0m \u001b[0mprint\u001b[0m \u001b[0;34m(\u001b[0m\u001b[0;34mf' tuple\\t:{T1}'\u001b[0m\u001b[0;34m)\u001b[0m\u001b[0;34m\u001b[0m\u001b[0;34m\u001b[0m\u001b[0m\n",
            "\u001b[0;31mAttributeError\u001b[0m: 'tuple' object has no attribute 'append'"
          ]
        }
      ]
    },
    {
      "cell_type": "code",
      "source": [
        "# Tidak dapat menghapus elemen\n",
        "T1 = (1, \"dua\", True, 1+2j)\n",
        "print (f' tuple\\t:{T1}')"
      ],
      "metadata": {
        "colab": {
          "base_uri": "https://localhost:8080/"
        },
        "id": "Pkh6paS4tQJL",
        "outputId": "15e89779-6678-4d9b-ad26-add2c9936c7b"
      },
      "execution_count": null,
      "outputs": [
        {
          "output_type": "stream",
          "name": "stdout",
          "text": [
            " tuple\t:(1, 'dua', True, (1+2j))\n"
          ]
        }
      ]
    },
    {
      "cell_type": "code",
      "source": [
        "T1.remove(1)\n",
        "T1.remove(\"dua\")\n",
        "print (f' tuple\\t:{T1}')"
      ],
      "metadata": {
        "colab": {
          "base_uri": "https://localhost:8080/",
          "height": 200
        },
        "id": "s7Hunmc9taxq",
        "outputId": "154c9b18-0701-4c5b-b232-b0e4651a06ca"
      },
      "execution_count": null,
      "outputs": [
        {
          "output_type": "error",
          "ename": "AttributeError",
          "evalue": "ignored",
          "traceback": [
            "\u001b[0;31m---------------------------------------------------------------------------\u001b[0m",
            "\u001b[0;31mAttributeError\u001b[0m                            Traceback (most recent call last)",
            "\u001b[0;32m<ipython-input-24-2dca33aa8d1e>\u001b[0m in \u001b[0;36m<cell line: 1>\u001b[0;34m()\u001b[0m\n\u001b[0;32m----> 1\u001b[0;31m \u001b[0mT1\u001b[0m\u001b[0;34m.\u001b[0m\u001b[0mremove\u001b[0m\u001b[0;34m(\u001b[0m\u001b[0;36m1\u001b[0m\u001b[0;34m)\u001b[0m\u001b[0;34m\u001b[0m\u001b[0;34m\u001b[0m\u001b[0m\n\u001b[0m\u001b[1;32m      2\u001b[0m \u001b[0mT1\u001b[0m\u001b[0;34m.\u001b[0m\u001b[0mremove\u001b[0m\u001b[0;34m(\u001b[0m\u001b[0;34m\"dua\"\u001b[0m\u001b[0;34m)\u001b[0m\u001b[0;34m\u001b[0m\u001b[0;34m\u001b[0m\u001b[0m\n\u001b[1;32m      3\u001b[0m \u001b[0mprint\u001b[0m \u001b[0;34m(\u001b[0m\u001b[0;34mf' tuple\\t:{T1}'\u001b[0m\u001b[0;34m)\u001b[0m\u001b[0;34m\u001b[0m\u001b[0;34m\u001b[0m\u001b[0m\n",
            "\u001b[0;31mAttributeError\u001b[0m: 'tuple' object has no attribute 'remove'"
          ]
        }
      ]
    },
    {
      "cell_type": "markdown",
      "source": [
        "### Menggabungkan Tuple"
      ],
      "metadata": {
        "id": "-7GLBCMPtixk"
      }
    },
    {
      "cell_type": "code",
      "source": [
        "#Menggabungkan tuple\n",
        "T3 = T1 + T2\n",
        "T3"
      ],
      "metadata": {
        "colab": {
          "base_uri": "https://localhost:8080/"
        },
        "id": "QwUJGtCrtkBi",
        "outputId": "ed455d30-c428-4618-8e6c-f311a22228fb"
      },
      "execution_count": null,
      "outputs": [
        {
          "output_type": "execute_result",
          "data": {
            "text/plain": [
              "(1, 'dua', True, (1+2j), 3, 2.4, True, 2.4)"
            ]
          },
          "metadata": {},
          "execution_count": 25
        }
      ]
    },
    {
      "cell_type": "markdown",
      "source": [
        "**Latihan 2**"
      ],
      "metadata": {
        "id": "fjK-3tZ3tvX2"
      }
    },
    {
      "cell_type": "code",
      "source": [
        "#Gabungan Tuple\n",
        "T3 = T1 + T2\n",
        "T3"
      ],
      "metadata": {
        "colab": {
          "base_uri": "https://localhost:8080/"
        },
        "id": "kxEYvwPBuOSg",
        "outputId": "ffdf5ccd-21bc-46ae-d394-0388a878bc71"
      },
      "execution_count": null,
      "outputs": [
        {
          "output_type": "execute_result",
          "data": {
            "text/plain": [
              "(400, 'anda', False, (6+300j), 250, 4.75, True, 8.75)"
            ]
          },
          "metadata": {},
          "execution_count": 28
        }
      ]
    }
  ]
}