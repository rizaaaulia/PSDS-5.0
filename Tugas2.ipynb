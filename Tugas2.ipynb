{
  "nbformat": 4,
  "nbformat_minor": 0,
  "metadata": {
    "colab": {
      "provenance": []
    },
    "kernelspec": {
      "name": "python3",
      "display_name": "Python 3"
    },
    "language_info": {
      "name": "python"
    }
  },
  "cells": [
    {
      "cell_type": "markdown",
      "source": [
        "**Nama : Riza Aulia Hanifa**\n",
        "\n",
        "**NIM : 2100015040**"
      ],
      "metadata": {
        "id": "7vppNHXuf4rd"
      }
    },
    {
      "cell_type": "markdown",
      "source": [
        "> **PENGENALAN PYTHON**\n",
        "\n",
        "Phyton adalah Bahasa pemrograman tingkat tinggi dengan dynamic semantics, bersifat object\n",
        "oriented, dan interpretatif. Bahasa pemrograman ini fokus dikembangkan pada keterbacaan\n",
        "bahasa pemrograman.\n",
        "\n",
        "1. Bahasa Pemrograman Tingkat Tinggi (High Level Programming) Artinya sintaks kode\n",
        "lebih mudah ditafsirkan oleh manusia.\n",
        "2. Interpretatif Ini artinya bahasa ini memerlukan intrepeter atau penerjemah. Ini\n",
        "memungkinkan kita untuk menggunakan Bahasa yang lebih mudah kita pahami.\n",
        "3. Object Oriented Ini berarti bahwa bahasa pemrograman ini berorientasi kepada objek. Hal\n",
        "ini membuat Phyton lebih mudah untuk dikembangkan.\n",
        "4. Dynamic Semantic Phyton secara otomatis akan menyesuaikan tipe dari suatu variable\n",
        "berdasarkan inputnya.\n",
        "\n",
        "Keunggulan Python :\n",
        "\n",
        "1. Mudah dipahami\n",
        "2. Grafis & Open Source\n",
        "3. Dinamis\n",
        "4. Memiliki Library Terlengkap untuk Data Sains"
      ],
      "metadata": {
        "id": "MKiU6nawgCBV"
      }
    },
    {
      "cell_type": "markdown",
      "source": [
        "> STRUKTUR PROGRAM PADA PYTHON"
      ],
      "metadata": {
        "id": "GNcO54swgQ5h"
      }
    },
    {
      "cell_type": "markdown",
      "source": [
        "1. **Statement**"
      ],
      "metadata": {
        "id": "xjx7rbNSgYp-"
      }
    },
    {
      "cell_type": "code",
      "execution_count": 1,
      "metadata": {
        "colab": {
          "base_uri": "https://localhost:8080/"
        },
        "id": "uXzgbwSsfvRt",
        "outputId": "3c171d37-3950-4dd9-8821-a1948a256a32"
      },
      "outputs": [
        {
          "output_type": "stream",
          "name": "stdout",
          "text": [
            "Belajar Python Menyenangkan\n",
            "Halo Dunia\n"
          ]
        }
      ],
      "source": [
        "print ('Belajar Python Menyenangkan')\n",
        "print ('Halo Dunia')"
      ]
    },
    {
      "cell_type": "markdown",
      "source": [
        "2. **Variabels**"
      ],
      "metadata": {
        "id": "ykehxilxgqi5"
      }
    },
    {
      "cell_type": "code",
      "source": [
        "a = 5\n",
        "b = 10\n",
        "c = 'Pejuang Data 3'"
      ],
      "metadata": {
        "id": "7QqYRdulg0P0"
      },
      "execution_count": 2,
      "outputs": []
    },
    {
      "cell_type": "markdown",
      "source": [
        "3. **Literals** : simbol-simbol yang dapat kita gunakan untuk mengisi suatu variabel"
      ],
      "metadata": {
        "id": "JBgVV_0AhO6q"
      }
    },
    {
      "cell_type": "markdown",
      "source": [
        "4. **Operators** : Simbol-simbol yang dapat digunakan untuk mengubah nilai dari satu variable dengan melibatkan satu atau lebih variable dan literal"
      ],
      "metadata": {
        "id": "hvW6qmxWixjy"
      }
    },
    {
      "cell_type": "code",
      "source": [
        "a + b"
      ],
      "metadata": {
        "colab": {
          "base_uri": "https://localhost:8080/"
        },
        "id": "RggS_g9Shs9D",
        "outputId": "cc178874-4100-4984-b72c-4806074e660c"
      },
      "execution_count": 3,
      "outputs": [
        {
          "output_type": "execute_result",
          "data": {
            "text/plain": [
              "15"
            ]
          },
          "metadata": {},
          "execution_count": 3
        }
      ]
    },
    {
      "cell_type": "markdown",
      "source": [
        "5. **Reserved Words** : Kumpulan kata-kata yang memiliki makna khusus dalam bahasa\n",
        "pemrograman Phyton. Kata false , return , dan for merupakan contoh dari reserved\n",
        "words.\n",
        "\n",
        "6. **Whitespace** : Pada bahasa Phyton, spasi dan tab memiliki makna khusus untuk menandai serangkaian blok dalam kode Phyton\n",
        "\n",
        "7. **Comments** : Comments merupakan sekumpulan teks yang dituliskan di dalam sebuah\n",
        "program yang tidak akan mempengaruhi hasil dari sebuah pemrograman.\n",
        "Terdapat dua jenis comments di dalam Phyton, yaitu :\n",
        "\n",
        "> a. **single line comment** (comments dalam satu baris) seperti contoh berikut :\n"
      ],
      "metadata": {
        "id": "O_AlS8ENh34T"
      }
    },
    {
      "cell_type": "code",
      "source": [
        "# Ini adalah Comment\n",
        "print(\"belajar Phyton\")"
      ],
      "metadata": {
        "colab": {
          "base_uri": "https://localhost:8080/"
        },
        "id": "UeMG-OwniRgp",
        "outputId": "bb005f5b-5c8a-432f-e770-e56004f841fb"
      },
      "execution_count": 4,
      "outputs": [
        {
          "output_type": "stream",
          "name": "stdout",
          "text": [
            "belajar Phyton\n"
          ]
        }
      ]
    },
    {
      "cell_type": "markdown",
      "source": [
        "> b. **multi line comment** (comments dalam beberapa baris) yang dapat dilakukan\n",
        "seperti pada contoh berikut :"
      ],
      "metadata": {
        "id": "lQnqsP0RiX3X"
      }
    },
    {
      "cell_type": "code",
      "source": [
        "'''\n",
        "Ini adalah komentar panjang\n",
        "Bisa digunakan untuk memberikan penjelasan\n",
        "panjang pada Sell Kode Phyton,\n",
        "Misal dokumentasi program, spesifikasi\n",
        "input output atau lainnya\n",
        "'''\n",
        "print('Belajar Phyton menyenangkan')"
      ],
      "metadata": {
        "colab": {
          "base_uri": "https://localhost:8080/"
        },
        "id": "6KEtbC-JiZVz",
        "outputId": "6b5bc9a3-cfe5-4914-d2fe-f55c7897d2c0"
      },
      "execution_count": 5,
      "outputs": [
        {
          "output_type": "stream",
          "name": "stdout",
          "text": [
            "Belajar Phyton menyenangkan\n"
          ]
        }
      ]
    }
  ]
}