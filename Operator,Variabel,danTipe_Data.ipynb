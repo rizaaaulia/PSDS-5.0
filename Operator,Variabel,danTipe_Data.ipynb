{
  "nbformat": 4,
  "nbformat_minor": 0,
  "metadata": {
    "colab": {
      "provenance": []
    },
    "kernelspec": {
      "name": "python3",
      "display_name": "Python 3"
    },
    "language_info": {
      "name": "python"
    }
  },
  "cells": [
    {
      "cell_type": "markdown",
      "source": [
        "#**OPERATOR**"
      ],
      "metadata": {
        "id": "RTRXcNXXF-aq"
      }
    },
    {
      "cell_type": "markdown",
      "source": [
        "Operator simbol simbol yang dapat digunakan untuk mengubah nilai dari satu variabel dengan melibatkan satu atau lebih variabel dan literal.\n",
        "Tipe-tipe operator :\n",
        "1. Operator Aritmetka\n",
        "2. Operator Assignment\n",
        "3. Operator Pembanding\n",
        "4. Operator Logika\n",
        "5. Operator Membership"
      ],
      "metadata": {
        "id": "qb6vzQGCGGcG"
      }
    },
    {
      "cell_type": "markdown",
      "source": [
        "# Operator Aritmatika"
      ],
      "metadata": {
        "id": "jdADc8Wf_q-C"
      }
    },
    {
      "cell_type": "markdown",
      "source": [
        "Operator Aritmatika digunakan untuk melakukan operasi matematika yang umum.\n",
        "Macam macam Operator Atmatika, yaitu :\n",
        "\n",
        "(+) : penjumlahan\n",
        "\n",
        "(-) : pengurangan\n",
        "\n",
        "(*) : perkalian\n",
        "\n",
        "(/) : pembagian\n",
        "\n",
        "(%) : modulus\n",
        "\n",
        "(**) : berpangkatan\n",
        "\n",
        "(//) : pembagian dengan hasil pembulatan flooring"
      ],
      "metadata": {
        "id": "0sJ-J2Xz_hrG"
      }
    },
    {
      "cell_type": "markdown",
      "source": [
        "**Contoh Penggunaan Operator Aritmatika**"
      ],
      "metadata": {
        "id": "UGhLugpyFxvM"
      }
    },
    {
      "cell_type": "code",
      "execution_count": null,
      "metadata": {
        "id": "xg-Vg27d86aH"
      },
      "outputs": [],
      "source": [
        "#penjumlahan\n",
        "print ('penjumlahan')\n",
        "print (2+2)\n",
        "#pengurangan\n",
        "print ('pengurangan')\n",
        "print ('-'*20)\n",
        "print (2-3)\n",
        "#perkalian\n",
        "print ('perkalian')\n",
        "print ('-'*20)\n",
        "print (2*3)\n",
        "#pembagian\n",
        "print ('pembagian')\n",
        "print ('-'*20)\n",
        "print (2/3)\n",
        "#modulus\n",
        "print ('modulus')\n",
        "print ('-'*20)\n",
        "print (3%2)\n",
        "#perpangkatan\n",
        "print ('perpangkatan')\n",
        "print ('-'*20)\n",
        "print (2**3)\n",
        "#pembagian dengan hasil pembulatan flooring\n",
        "print ('pembagian pembulatan flooring')\n",
        "print ('-'*20)\n",
        "print (3//2)"
      ]
    },
    {
      "cell_type": "markdown",
      "source": [
        "**Latihan Operator 1**"
      ],
      "metadata": {
        "id": "kI1o4YibJD4A"
      }
    },
    {
      "cell_type": "markdown",
      "source": [
        "Buatlah Program penerapan operator Aritmatika dengan nilai - nilai yang berbeda dari contoh diatas"
      ],
      "metadata": {
        "id": "CXEcy4KvFvrA"
      }
    },
    {
      "cell_type": "code",
      "source": [
        "#penjumlahan\n",
        "print ('penjumlahan')\n",
        "print (7+3)\n",
        "#pengurangan\n",
        "print ('pengurangan')\n",
        "print ('-'*20)\n",
        "print (9-5)\n",
        "#perkalian\n",
        "print ('perkalian')\n",
        "print ('-'*20)\n",
        "print (15*8)\n",
        "#pembagian\n",
        "print ('pembagian')\n",
        "print ('-'*20)\n",
        "print (314/2)\n",
        "#modulus\n",
        "print ('modulus')\n",
        "print ('-'*20)\n",
        "print (9%3)\n",
        "#perpangkatan\n",
        "print ('perpangkatan')\n",
        "print ('-'*20)\n",
        "print (2**9)\n",
        "#pembagian dengan hasil pembulatan flooring\n",
        "print ('pembagian pembulatan flooring')\n",
        "print ('-'*20)\n",
        "print (204//10)"
      ],
      "metadata": {
        "colab": {
          "base_uri": "https://localhost:8080/"
        },
        "id": "lCBOQiNHIfBS",
        "outputId": "ad03bcf8-87b0-4347-cfb0-e958ab952e81"
      },
      "execution_count": null,
      "outputs": [
        {
          "output_type": "stream",
          "name": "stdout",
          "text": [
            "penjumlahan\n",
            "10\n",
            "pengurangan\n",
            "--------------------\n",
            "4\n",
            "perkalian\n",
            "--------------------\n",
            "120\n",
            "pembagian\n",
            "--------------------\n",
            "157.0\n",
            "modulus\n",
            "--------------------\n",
            "0\n",
            "perpangkatan\n",
            "--------------------\n",
            "512\n",
            "pembagian pembulatan flooring\n",
            "--------------------\n",
            "20\n"
          ]
        }
      ]
    },
    {
      "cell_type": "markdown",
      "source": [
        "# Operator Assignment"
      ],
      "metadata": {
        "id": "6H5UBOpTMDEv"
      }
    },
    {
      "cell_type": "markdown",
      "source": [
        "Operator Assignment digunakan untuk menyimpan nilai menjadi suatu variabel"
      ],
      "metadata": {
        "id": "HQPK0p3gMJqm"
      }
    },
    {
      "cell_type": "markdown",
      "source": [
        "**Contoh Penggunaan Operator Assignment**"
      ],
      "metadata": {
        "id": "rRpcrcTAOUjw"
      }
    },
    {
      "cell_type": "code",
      "source": [
        "#Penjumlahan\n",
        "print('Penjumlahan')\n",
        "x=5\n",
        "x=x+5\n",
        "print(x)\n",
        "x=5\n",
        "x+=5\n",
        "print(x)\n",
        "print('-'*20)\n",
        "\n",
        "#Pengurangan\n",
        "print ('Pengurangan')\n",
        "x=5\n",
        "x=x-5\n",
        "print(x)\n",
        "x=5\n",
        "x-=3\n",
        "print(x)\n",
        "print('-'*20)\n",
        "\n",
        "#Perkalian\n",
        "print('Perkalian')\n",
        "x=5\n",
        "x=x*5\n",
        "print(x)\n",
        "x=5\n",
        "x*=3\n",
        "print(x)\n",
        "print('-'*20)\n",
        "\n",
        "#Pembagian\n",
        "print('pembagian')\n",
        "x=5\n",
        "x=x/5\n",
        "print(x)\n",
        "x=5\n",
        "x/=3\n",
        "print (x)\n",
        "print('-'*20)\n",
        "\n",
        "#Modulus\n",
        "print('Modulus')\n",
        "x=5\n",
        "x=x%5\n",
        "print(x)\n",
        "x=5\n",
        "x%=3\n",
        "print(x)\n",
        "print('-'*20)\n",
        "\n",
        "#Pembagian Flooring\n",
        "print('Pembagian Flooring')\n",
        "x=5\n",
        "x=x//5\n",
        "print(x)\n",
        "x=5\n",
        "x//=3\n",
        "print(x)\n",
        "print('-'*20)\n",
        "\n",
        "#Perpangkatan\n",
        "print('Perpangkatan')\n",
        "x=5\n",
        "x=x**5\n",
        "print(x)\n",
        "x=5\n",
        "x**=3\n",
        "print(x)\n",
        "print('-'*20)"
      ],
      "metadata": {
        "id": "VFqCXesJMFAw"
      },
      "execution_count": null,
      "outputs": []
    },
    {
      "cell_type": "markdown",
      "source": [
        "**Latihan Operator 2**"
      ],
      "metadata": {
        "id": "tGNT3uLFQ5gP"
      }
    },
    {
      "cell_type": "markdown",
      "source": [
        " Buatlah program penerapan operator assignment dengan nilai nilai yang berbeda dari contoh diatas"
      ],
      "metadata": {
        "id": "WqQrrBLHR7PY"
      }
    },
    {
      "cell_type": "code",
      "source": [
        "#Penjumlahan\n",
        "print('Penjumlahan')\n",
        "x=4\n",
        "x=x+9\n",
        "print(x)\n",
        "x=20\n",
        "x+=50\n",
        "print(x)\n",
        "print('-'*20)\n",
        "\n",
        "#Pengurangan\n",
        "print ('Pengurangan')\n",
        "x=76\n",
        "x=x-26\n",
        "print(x)\n",
        "x=10\n",
        "x-=7\n",
        "print(x)\n",
        "print('-'*20)\n",
        "\n",
        "#Perkalian\n",
        "print('Perkalian')\n",
        "x=30\n",
        "x=x*2\n",
        "print(x)\n",
        "x=10\n",
        "x*=10\n",
        "print(x)\n",
        "print('-'*20)\n",
        "\n",
        "#Pembagian\n",
        "print('pembagian')\n",
        "x=120\n",
        "x=x/6\n",
        "print(x)\n",
        "x=10\n",
        "x/=5\n",
        "print (x)\n",
        "print('-'*20)\n",
        "\n",
        "#Modulus\n",
        "print('Modulus')\n",
        "x=20\n",
        "x=x%7\n",
        "print(x)\n",
        "x=8\n",
        "x%=7\n",
        "print(x)\n",
        "print('-'*20)\n",
        "\n",
        "#Pembagian Flooring\n",
        "print('Pembagian Flooring')\n",
        "x=2\n",
        "x=x//12\n",
        "print(x)\n",
        "x=3\n",
        "x//=3\n",
        "print(x)\n",
        "print('-'*20)\n",
        "\n",
        "#Perpangkatan\n",
        "print('Perpangkatan')\n",
        "x=2\n",
        "x=x**10\n",
        "print(x)\n",
        "x=2\n",
        "x**=10\n",
        "print(x)\n",
        "print('-'*20)"
      ],
      "metadata": {
        "colab": {
          "base_uri": "https://localhost:8080/"
        },
        "id": "MBWTRaLhQ-I-",
        "outputId": "95eece8e-0fc8-459a-c615-4e484a0feb8b"
      },
      "execution_count": null,
      "outputs": [
        {
          "output_type": "stream",
          "name": "stdout",
          "text": [
            "Penjumlahan\n",
            "13\n",
            "70\n",
            "--------------------\n",
            "Pengurangan\n",
            "50\n",
            "3\n",
            "--------------------\n",
            "Perkalian\n",
            "60\n",
            "100\n",
            "--------------------\n",
            "pembagian\n",
            "20.0\n",
            "2.0\n",
            "--------------------\n",
            "Modulus\n",
            "6\n",
            "1\n",
            "--------------------\n",
            "Pembagian Flooring\n",
            "0\n",
            "1\n",
            "--------------------\n",
            "Perpangkatan\n",
            "1024\n",
            "1024\n",
            "--------------------\n"
          ]
        }
      ]
    },
    {
      "cell_type": "markdown",
      "source": [
        "# Operator Pembanding"
      ],
      "metadata": {
        "id": "aexlwX5GTtO4"
      }
    },
    {
      "cell_type": "markdown",
      "source": [
        "Operator Pembanding digunakan untuk membandingkan 2 nilai atau variabel"
      ],
      "metadata": {
        "id": "LgSszu5wTy_W"
      }
    },
    {
      "cell_type": "markdown",
      "source": [
        "Operator Pembanding digunakan untuk membandingkan 2 nilai atau variabel"
      ],
      "metadata": {
        "id": "g4DEUzB2UT38"
      }
    },
    {
      "cell_type": "code",
      "source": [
        "print(2==2)\n",
        "print(2!=2)\n",
        "print(2>2)\n",
        "print(2<2)\n",
        "print(2>=2)\n",
        "print(2<=2)"
      ],
      "metadata": {
        "id": "pxWPAlkoSuqY"
      },
      "execution_count": null,
      "outputs": []
    },
    {
      "cell_type": "markdown",
      "source": [
        "**Latihan Operator 3**"
      ],
      "metadata": {
        "id": "AosF71tIUrb9"
      }
    },
    {
      "cell_type": "markdown",
      "source": [
        "Buatlah program penerapan operator pembanding dengan nilai nilai yang berbeda dari contoh diatas"
      ],
      "metadata": {
        "id": "Oky7Pl42U20S"
      }
    },
    {
      "cell_type": "code",
      "source": [
        "print(187==187)\n",
        "print(6!=1)\n",
        "print(12>4)\n",
        "print(12<4)\n",
        "print(2>=8)\n",
        "print(19<=16)"
      ],
      "metadata": {
        "colab": {
          "base_uri": "https://localhost:8080/"
        },
        "id": "Gs4IebKYUw0Q",
        "outputId": "a035882b-a330-4428-ffcf-c57f1ea10b99"
      },
      "execution_count": null,
      "outputs": [
        {
          "output_type": "stream",
          "name": "stdout",
          "text": [
            "True\n",
            "True\n",
            "True\n",
            "False\n",
            "False\n",
            "False\n"
          ]
        }
      ]
    },
    {
      "cell_type": "markdown",
      "source": [
        "# Operator Logika"
      ],
      "metadata": {
        "id": "H1GctaD_VNvr"
      }
    },
    {
      "cell_type": "markdown",
      "source": [
        "Operator logika digunakan untuk mengkombinasikan statement statement kondisional\n",
        "Macam macam opertaor logika:\n",
        "\n",
        "and -> kondisi menjadi benar apabila semua statementnya benar\n",
        "\n",
        "or -> kondisi menjadi benar apabila salah satu statementnya ada yang benar\n",
        "\n",
        "not -> membalik hasil adri benar ke salah dan salah ke benar"
      ],
      "metadata": {
        "id": "063t-mqtVWnX"
      }
    },
    {
      "cell_type": "markdown",
      "source": [
        "**Contoh penggunaan operator logika**"
      ],
      "metadata": {
        "id": "MMJbM_X1VlDh"
      }
    },
    {
      "cell_type": "code",
      "source": [
        "print(True and False)\n",
        "print(False or False)\n",
        "print(not False and True)"
      ],
      "metadata": {
        "id": "31U_J7P1VRO_"
      },
      "execution_count": null,
      "outputs": []
    },
    {
      "cell_type": "markdown",
      "source": [
        "**Latihan Operator 4**"
      ],
      "metadata": {
        "id": "srZ2A9CHWTGh"
      }
    },
    {
      "cell_type": "markdown",
      "source": [
        "Buatlah program penerapan operator logika dengan nilai nilai yang berbeda dari contoh diatas"
      ],
      "metadata": {
        "id": "WIySoJlXbRZ-"
      }
    },
    {
      "cell_type": "code",
      "source": [
        "print(False and True)\n",
        "print(True or False)\n",
        "print(not True and False)"
      ],
      "metadata": {
        "colab": {
          "base_uri": "https://localhost:8080/"
        },
        "id": "CjPhiVqtbQvi",
        "outputId": "3f854918-0c94-4691-efbe-5b6a03918809"
      },
      "execution_count": null,
      "outputs": [
        {
          "output_type": "stream",
          "name": "stdout",
          "text": [
            "False\n",
            "True\n",
            "False\n"
          ]
        }
      ]
    },
    {
      "cell_type": "markdown",
      "source": [
        "# Operator Membership / Keanggotaan"
      ],
      "metadata": {
        "id": "6S2QDYYYbkeO"
      }
    },
    {
      "cell_type": "markdown",
      "source": [
        "Operator keanggotaan digunakan untuk menguji apakah urutan disajikan dalam suatu objek\n",
        "\n",
        "Macam macam operator Keanggotaan :\n",
        "\n",
        "in -> return True ketika nilai tertentu dalam sebuah urutan ada\n",
        "\n",
        "not in > return True ketika nilai tertentu dalam sebuah uruta tidak ada"
      ],
      "metadata": {
        "id": "bif12qtRbuPN"
      }
    },
    {
      "cell_type": "markdown",
      "source": [
        "**Contoh penggunaan operator keanggotaan**"
      ],
      "metadata": {
        "id": "Ns2nEYbIbz1A"
      }
    },
    {
      "cell_type": "code",
      "source": [
        "a=(1,2,3,4,5,6)\n",
        "b=2\n",
        "print(b in a)\n",
        "\n",
        "\n",
        "print('-'*20)\n",
        "a=(1,2,3,4,5,6)\n",
        "b=7\n",
        "print(b not in a)"
      ],
      "metadata": {
        "id": "B9slTgO3bpkP"
      },
      "execution_count": null,
      "outputs": []
    },
    {
      "cell_type": "markdown",
      "source": [
        "**Latihan Operator 5**"
      ],
      "metadata": {
        "id": "Y9aXitdJcSbQ"
      }
    },
    {
      "cell_type": "markdown",
      "source": [
        "Buatlah program penerapan operator keanggotaan membership dengan nilai nilai yang berbeda dari contoh diatas"
      ],
      "metadata": {
        "id": "D0N3nR3QcaB5"
      }
    },
    {
      "cell_type": "code",
      "source": [
        "a=(11,12,13,14,15)\n",
        "b=12\n",
        "print(b in a)\n",
        "\n",
        "\n",
        "print('-'*20)\n",
        "a=(11,12,13,14,15)\n",
        "b=12\n",
        "print(b not in a)"
      ],
      "metadata": {
        "colab": {
          "base_uri": "https://localhost:8080/"
        },
        "id": "OPEbgeqxcWCa",
        "outputId": "4a5be433-68fa-437b-f75d-d1b7ab3c44e8"
      },
      "execution_count": null,
      "outputs": [
        {
          "output_type": "stream",
          "name": "stdout",
          "text": [
            "True\n",
            "--------------------\n",
            "False\n"
          ]
        }
      ]
    },
    {
      "cell_type": "markdown",
      "source": [
        "## Variabel"
      ],
      "metadata": {
        "id": "4UeyGaKGcytE"
      }
    },
    {
      "cell_type": "markdown",
      "source": [
        "\n",
        "Variabel: Lokal penyimpanan yang dapat digunakan untuk menampung sebuah data atau informasi.\n",
        "Syarat syarat penamaan variabel\n",
        "\n",
        "1. Karakter - karakter yang digunakan untuk penamaan variable adalah alphabet, angka dan underscore.\n",
        "2. Karakter pertama variabel harus berupa huruf atau garis bawah/underscore, dan tidak bisa berupa angka\n",
        "\n",
        "3. Nama sebuah variabel tidak bisa menggunakan keyword atau reserved words dari bahasa python seperti for, if dan lainnya\n",
        "4. Karakter pada nama variabel bersifat sensitif (case-sensitif)"
      ],
      "metadata": {
        "id": "l0Z7MPbmc5cC"
      }
    },
    {
      "cell_type": "code",
      "source": [
        "# membuat variabel\n",
        "kalimat ='ini adalah variabel'\n",
        "bilangan1 = 4\n",
        "bilangan2 = 2.5\n",
        "bilangan3 = True\n",
        "bilangan4 = 1j + 4\n",
        "\n",
        "# menampilkan variabel\n",
        "print(kalimat)\n",
        "print(bilangan1)\n",
        "print(bilangan2)\n",
        "print(bilangan3)\n",
        "print(bilangan4)"
      ],
      "metadata": {
        "colab": {
          "base_uri": "https://localhost:8080/"
        },
        "id": "SCqJjxn5c3__",
        "outputId": "f3560a48-5eb9-435b-a12f-bc158de4906f"
      },
      "execution_count": null,
      "outputs": [
        {
          "output_type": "stream",
          "name": "stdout",
          "text": [
            "ini adalah variabel\n",
            "4\n",
            "2.5\n",
            "True\n",
            "(4+1j)\n"
          ]
        }
      ]
    },
    {
      "cell_type": "markdown",
      "source": [
        "**Latihan 1**"
      ],
      "metadata": {
        "id": "0xP3i_6QeDzt"
      }
    },
    {
      "cell_type": "markdown",
      "source": [
        "buatlah 5 variabel kalian sendiri dengan 5 macam tipe data lalu tampilkan variabel menggunakan fungsi print"
      ],
      "metadata": {
        "id": "9XMnaEC0ek2b"
      }
    },
    {
      "cell_type": "code",
      "source": [
        "# membuat variabel\n",
        "kalimat ='ini adalah kalimat'\n",
        "bilangan1 = 12 + 18j\n",
        "bilangan2 = 9.2\n",
        "bilangan3 = 1004\n",
        "bilangan4 = True\n",
        "\n",
        "# menampilkan variabel\n",
        "print(kalimat)\n",
        "print(bilangan1)\n",
        "print(bilangan2)\n",
        "print(bilangan3)\n",
        "print(bilangan4)"
      ],
      "metadata": {
        "colab": {
          "base_uri": "https://localhost:8080/"
        },
        "id": "SzxXMk4UeG6J",
        "outputId": "70914300-a2db-4431-c984-b6595e670b14"
      },
      "execution_count": null,
      "outputs": [
        {
          "output_type": "stream",
          "name": "stdout",
          "text": [
            "ini adalah kalimat\n",
            "(12+18j)\n",
            "9.2\n",
            "1004\n",
            "True\n"
          ]
        }
      ]
    },
    {
      "cell_type": "markdown",
      "source": [
        "# Tipe Data & Konversi Tipe Data"
      ],
      "metadata": {
        "id": "lKgLNeWHexDQ"
      }
    },
    {
      "cell_type": "markdown",
      "source": [
        "**Tipe data**"
      ],
      "metadata": {
        "id": "GhE9tdDve3yF"
      }
    },
    {
      "cell_type": "markdown",
      "source": [
        "5 tipe data yaitu\n",
        "\n",
        "1. Integr atau bilangan bulat\n",
        "\n",
        "2. Float atau bilangan desimal\n",
        "\n",
        "3. string atau kalimat\n",
        "\n",
        "4. Boolean yang terdiri dari True dan False\n",
        "\n",
        "5. Complex yang merupakan bilangan kompleks"
      ],
      "metadata": {
        "id": "_UkwGo82fAau"
      }
    },
    {
      "cell_type": "code",
      "source": [
        "# menampilkan tipe data\n",
        "print(type(kalimat))\n",
        "print(type(bilangan1))\n",
        "print(type(bilangan2))\n",
        "print(type(bilangan3))\n",
        "print(type(bilangan4))"
      ],
      "metadata": {
        "id": "ptiiPSVGe2Xh"
      },
      "execution_count": null,
      "outputs": []
    },
    {
      "cell_type": "markdown",
      "source": [
        "**Latihan 2**"
      ],
      "metadata": {
        "id": "yjfTEDkTfrdO"
      }
    },
    {
      "cell_type": "markdown",
      "source": [
        "cek tipe data variabel yang telah kalian buat pada latihan 1"
      ],
      "metadata": {
        "id": "6-3qfv0ffvdz"
      }
    },
    {
      "cell_type": "code",
      "source": [
        "# menampilkan tipe data\n",
        "print(type(kalimat))\n",
        "print(type(bilangan1))\n",
        "print(type(bilangan2))\n",
        "print(type(bilangan3))\n",
        "print(type(bilangan4))"
      ],
      "metadata": {
        "colab": {
          "base_uri": "https://localhost:8080/"
        },
        "id": "sx73rWI8fueB",
        "outputId": "beaac2ff-04c8-4ca9-c6c8-0b0d77a82736"
      },
      "execution_count": null,
      "outputs": [
        {
          "output_type": "stream",
          "name": "stdout",
          "text": [
            "<class 'str'>\n",
            "<class 'complex'>\n",
            "<class 'float'>\n",
            "<class 'int'>\n",
            "<class 'bool'>\n"
          ]
        }
      ]
    },
    {
      "cell_type": "markdown",
      "source": [
        "# Konversi Tipe Data"
      ],
      "metadata": {
        "id": "ploTkWFmf4xy"
      }
    },
    {
      "cell_type": "code",
      "source": [
        "# konversi tipe data integer\n",
        "print(int(bilangan2))\n",
        "print(int(bilangan3))\n",
        "\n",
        "# konversi tipe data float\n",
        "print(float(bilangan1))\n",
        "print(float(bilangan3))\n",
        "\n",
        "# konversi tipe data string\n",
        "print(str(bilangan1))\n",
        "print(str(bilangan2))\n",
        "print(str(bilangan3))\n",
        "\n",
        "# konversi tipe data bool\n",
        "print(bool(bilangan1))\n",
        "print(bool(bilangan2))\n",
        "\n",
        "# konversi tipe data complex\n",
        "print(complex(bilangan1))\n",
        "print(complex(bilangan2))\n",
        "print(complex(bilangan3))"
      ],
      "metadata": {
        "colab": {
          "base_uri": "https://localhost:8080/"
        },
        "id": "2AKk9lxRiGME",
        "outputId": "feb9fb95-c6c0-4ce9-84ba-699895b1affa"
      },
      "execution_count": null,
      "outputs": [
        {
          "output_type": "stream",
          "name": "stdout",
          "text": [
            "2\n",
            "1\n",
            "4.0\n",
            "1.0\n",
            "4\n",
            "2.5\n",
            "True\n",
            "True\n",
            "True\n",
            "(4+0j)\n",
            "(2.5+0j)\n",
            "(1+0j)\n"
          ]
        }
      ]
    },
    {
      "cell_type": "markdown",
      "source": [
        "**Latihan 3**"
      ],
      "metadata": {
        "id": "KNXXPXOpgul8"
      }
    },
    {
      "cell_type": "markdown",
      "source": [
        "konversi tipe data yang telah kalian buat menjadi berbagai macam tipe data"
      ],
      "metadata": {
        "id": "ma3eRyl2g1Yy"
      }
    },
    {
      "cell_type": "code",
      "source": [
        "# konversi tipe data integer\n",
        "print(int(bilangan3))\n",
        "print(int(bilangan4))\n",
        "\n",
        "# konversi tipe data float\n",
        "print(float(bilangan2))\n",
        "print(float(bilangan4))\n",
        "\n",
        "# konversi tipe data string\n",
        "print(str(bilangan1))\n",
        "print(str(bilangan2))\n",
        "print(str(bilangan3))\n",
        "\n",
        "# konversi tipe data bool\n",
        "print(bool(bilangan1))\n",
        "print(bool(bilangan2))\n",
        "\n",
        "# konversi tipe data complex\n",
        "print(complex(bilangan1))\n",
        "print(complex(bilangan2))\n",
        "print(complex(bilangan3))"
      ],
      "metadata": {
        "colab": {
          "base_uri": "https://localhost:8080/"
        },
        "id": "tZVQ2Y2Dg0lM",
        "outputId": "aebd5cf6-a032-45a4-87bb-2d05ce8b05ae"
      },
      "execution_count": null,
      "outputs": [
        {
          "output_type": "stream",
          "name": "stdout",
          "text": [
            "1004\n",
            "1\n",
            "9.2\n",
            "1.0\n",
            "(12+18j)\n",
            "9.2\n",
            "1004\n",
            "True\n",
            "True\n",
            "(12+18j)\n",
            "(9.2+0j)\n",
            "(1004+0j)\n"
          ]
        }
      ]
    }
  ]
}